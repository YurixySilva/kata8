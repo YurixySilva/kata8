{
 "cells": [
  {
   "cell_type": "markdown",
   "metadata": {},
   "source": [
    "## Diccionarios Python"
   ]
  },
  {
   "cell_type": "code",
   "execution_count": 7,
   "metadata": {},
   "outputs": [
    {
     "name": "stdout",
     "output_type": "stream",
     "text": [
      "el planeta Marte\n",
      "tine  2 lunas\n"
     ]
    }
   ],
   "source": [
    "planet={\n",
    "    'nombre': 'Marte',\n",
    "    'lunas':2 \n",
    "}\n",
    "print(\"el planeta\", planet.get('nombre'))\n",
    "print(\"tine \", planet.get('lunas'), \"lunas\")"
   ]
  },
  {
   "cell_type": "code",
   "execution_count": 12,
   "metadata": {},
   "outputs": [
    {
     "name": "stdout",
     "output_type": "stream",
     "text": [
      "el planeta Marte\n",
      "tiene 2 lunas\n",
      "con diametros de  6752 km polar \n",
      "y de 6792  km ecuatorial\n"
     ]
    }
   ],
   "source": [
    "planet.update({\n",
    "    'polar': 6752,\n",
    "'equatorial': 6792\n",
    "})\n",
    "print('el planeta', planet.get('nombre'))\n",
    "print('tiene', planet.get('lunas'), 'lunas')\n",
    "print('con diametros de ', planet.get('polar', 'equatorial'), 'km polar ')\n",
    "print('y de', planet.get('equatorial'), ' km ecuatorial')\n"
   ]
  },
  {
   "cell_type": "markdown",
   "metadata": {},
   "source": [
    "## Ejercicio 2\n"
   ]
  },
  {
   "cell_type": "code",
   "execution_count": 21,
   "metadata": {},
   "outputs": [
    {
     "name": "stdout",
     "output_type": "stream",
     "text": [
      "hay un total de 214  lunas entre todos los planetas\n",
      "y aproximadamente 17.833333333333332 de lunas por planeta\n"
     ]
    }
   ],
   "source": [
    "planet_moons = {\n",
    "    'mercury': 0,\n",
    "    'venus': 0,\n",
    "    'earth': 1,\n",
    "    'mars': 2,\n",
    "    'jupiter': 79,\n",
    "    'saturn': 82,\n",
    "    'uranus': 27,\n",
    "    'neptune': 14,\n",
    "    'pluto': 5,\n",
    "    'haumea': 2,\n",
    "    'makemake': 1,\n",
    "    'eris': 1\n",
    "}\n",
    "muns=planet_moons.values()\n",
    "planetis=len( planet_moons.keys())\n",
    "lunera=0\n",
    "for lunita in muns: \n",
    "    lunera= lunera + lunita\n",
    "print(\"hay un total de\", lunera, \" lunas entre todos los planetas\") \n",
    "luna_por_planeta=lunera/planetis\n",
    "print('y aproximadamente', luna_por_planeta, 'de lunas por planeta.')\n"
   ]
  }
 ],
 "metadata": {
  "interpreter": {
   "hash": "cf960eb46d23ddff2d972984d3ba9e94ed12ea2863506cd2d61fa5eee592ec1f"
  },
  "kernelspec": {
   "display_name": "Python 3.10.2 64-bit",
   "language": "python",
   "name": "python3"
  },
  "language_info": {
   "codemirror_mode": {
    "name": "ipython",
    "version": 3
   },
   "file_extension": ".py",
   "mimetype": "text/x-python",
   "name": "python",
   "nbconvert_exporter": "python",
   "pygments_lexer": "ipython3",
   "version": "3.10.2"
  },
  "orig_nbformat": 4
 },
 "nbformat": 4,
 "nbformat_minor": 2
}
